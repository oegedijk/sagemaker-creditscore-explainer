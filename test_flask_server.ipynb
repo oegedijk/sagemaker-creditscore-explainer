{
 "cells": [
  {
   "cell_type": "markdown",
   "metadata": {},
   "source": [
    "# Imports"
   ]
  },
  {
   "cell_type": "code",
   "execution_count": 147,
   "metadata": {
    "ExecuteTime": {
     "end_time": "2020-08-17T19:14:47.891482Z",
     "start_time": "2020-08-17T19:14:47.887474Z"
    }
   },
   "outputs": [],
   "source": [
    "import json\n",
    "import requests\n",
    "\n",
    "import numpy as np\n",
    "import pandas as pd"
   ]
  },
  {
   "cell_type": "markdown",
   "metadata": {},
   "source": [
    "# Load data"
   ]
  },
  {
   "cell_type": "code",
   "execution_count": 148,
   "metadata": {
    "ExecuteTime": {
     "end_time": "2020-08-17T19:14:49.068741Z",
     "start_time": "2020-08-17T19:14:48.844351Z"
    }
   },
   "outputs": [],
   "source": [
    "df = pd.read_csv(\"data/data.csv\").drop(\"Unnamed: 0\", axis=1)"
   ]
  },
  {
   "cell_type": "code",
   "execution_count": 149,
   "metadata": {
    "ExecuteTime": {
     "end_time": "2020-08-17T19:14:49.601899Z",
     "start_time": "2020-08-17T19:14:49.597394Z"
    }
   },
   "outputs": [],
   "source": [
    "TARGET=\"SeriousDlqin2yrs\""
   ]
  },
  {
   "cell_type": "markdown",
   "metadata": {},
   "source": [
    "## Test API"
   ]
  },
  {
   "cell_type": "markdown",
   "metadata": {},
   "source": [
    "### define API URLs"
   ]
  },
  {
   "cell_type": "code",
   "execution_count": 150,
   "metadata": {
    "ExecuteTime": {
     "end_time": "2020-08-17T19:14:50.914507Z",
     "start_time": "2020-08-17T19:14:50.909033Z"
    }
   },
   "outputs": [],
   "source": [
    "lambda_api_url = \"https://x82fudbwt4.execute-api.eu-west-1.amazonaws.com/dev/predict\"\n",
    "sagemaker_api_url = \"https://4m53ma6yf8.execute-api.eu-central-1.amazonaws.com/test/credit-explainer\"\n",
    "local_api_url = \"http://localhost:5001/predict\"\n",
    "\n",
    "api = local_api_url"
   ]
  },
  {
   "cell_type": "markdown",
   "metadata": {},
   "source": [
    "### Send request"
   ]
  },
  {
   "cell_type": "code",
   "execution_count": 152,
   "metadata": {
    "ExecuteTime": {
     "end_time": "2020-08-17T19:15:08.230744Z",
     "start_time": "2020-08-17T19:15:08.131734Z"
    }
   },
   "outputs": [
    {
     "data": {
      "text/plain": [
       "{'prediction': [0.021695483500824356],\n",
       " 'shap_base': 0.06013555555555556,\n",
       " 'shap_values': {'MonthlyIncome': [0.00047997136926613323],\n",
       "  'age': [0.002401008774263085],\n",
       "  'NumberOfDependents': [-0.0010044244852816695],\n",
       "  'DebtRatio': [-0.0012618673829351973],\n",
       "  'RevolvingUtilizationOfUnsecuredLines': [-0.01750849094491076],\n",
       "  'NumberRealEstateLoansOrLines': [-0.0001247615889879619],\n",
       "  'NumberOfOpenCreditLinesAndLoans': [-0.0005640194333750395],\n",
       "  'NumberOfTime30-59DaysPastDueNotWorse': [-0.006885185238433925],\n",
       "  'NumberOfTime60-89DaysPastDueNotWorse': [-0.0041087349609328595],\n",
       "  'NumberOfTimes90DaysLate': [-0.009863568163403006]}}"
      ]
     },
     "execution_count": 152,
     "metadata": {},
     "output_type": "execute_result"
    }
   ],
   "source": [
    "sample_df = df.sample(1).drop(TARGET, axis=1)\n",
    "sample_json = sample_df.to_json(orient='records')\n",
    "header = {'Content-Type': 'application/json', 'Accept': 'application/json'}\n",
    "\n",
    "resp = requests.post(api, data=json.dumps(sample_json), headers=header)\n",
    "\n",
    "resp.json()"
   ]
  },
  {
   "cell_type": "markdown",
   "metadata": {},
   "source": [
    "### Format response"
   ]
  },
  {
   "cell_type": "code",
   "execution_count": 153,
   "metadata": {
    "ExecuteTime": {
     "end_time": "2020-08-17T19:15:12.487446Z",
     "start_time": "2020-08-17T19:15:12.477278Z"
    }
   },
   "outputs": [],
   "source": [
    "preds = np.asarray(resp.json()['prediction'])\n",
    "shap_base = resp.json()['shap_base']\n",
    "shap_values = pd.DataFrame(resp.json()['shap_values'])[sample_df.columns].values[0]"
   ]
  },
  {
   "cell_type": "code",
   "execution_count": 154,
   "metadata": {
    "ExecuteTime": {
     "end_time": "2020-08-17T19:15:13.648783Z",
     "start_time": "2020-08-17T19:15:13.606690Z"
    }
   },
   "outputs": [
    {
     "data": {
      "text/html": [
       "<div>\n",
       "<style scoped>\n",
       "    .dataframe tbody tr th:only-of-type {\n",
       "        vertical-align: middle;\n",
       "    }\n",
       "\n",
       "    .dataframe tbody tr th {\n",
       "        vertical-align: top;\n",
       "    }\n",
       "\n",
       "    .dataframe thead th {\n",
       "        text-align: right;\n",
       "    }\n",
       "</style>\n",
       "<table border=\"1\" class=\"dataframe\">\n",
       "  <thead>\n",
       "    <tr style=\"text-align: right;\">\n",
       "      <th></th>\n",
       "      <th>col</th>\n",
       "      <th>contribution</th>\n",
       "      <th>value</th>\n",
       "      <th>cumulative</th>\n",
       "      <th>base</th>\n",
       "    </tr>\n",
       "  </thead>\n",
       "  <tbody>\n",
       "    <tr>\n",
       "      <th>0</th>\n",
       "      <td>_BASE</td>\n",
       "      <td>0.060136</td>\n",
       "      <td></td>\n",
       "      <td>0.060136</td>\n",
       "      <td>0.000000</td>\n",
       "    </tr>\n",
       "    <tr>\n",
       "      <th>1</th>\n",
       "      <td>RevolvingUtilizationOfUnsecuredLines</td>\n",
       "      <td>-0.017508</td>\n",
       "      <td>0</td>\n",
       "      <td>0.042627</td>\n",
       "      <td>0.060136</td>\n",
       "    </tr>\n",
       "    <tr>\n",
       "      <th>2</th>\n",
       "      <td>NumberOfTimes90DaysLate</td>\n",
       "      <td>-0.009864</td>\n",
       "      <td>0</td>\n",
       "      <td>0.032763</td>\n",
       "      <td>0.042627</td>\n",
       "    </tr>\n",
       "    <tr>\n",
       "      <th>3</th>\n",
       "      <td>NumberOfTime30-59DaysPastDueNotWorse</td>\n",
       "      <td>-0.006885</td>\n",
       "      <td>0</td>\n",
       "      <td>0.025878</td>\n",
       "      <td>0.032763</td>\n",
       "    </tr>\n",
       "    <tr>\n",
       "      <th>4</th>\n",
       "      <td>NumberOfTime60-89DaysPastDueNotWorse</td>\n",
       "      <td>-0.004109</td>\n",
       "      <td>0</td>\n",
       "      <td>0.021770</td>\n",
       "      <td>0.025878</td>\n",
       "    </tr>\n",
       "    <tr>\n",
       "      <th>5</th>\n",
       "      <td>age</td>\n",
       "      <td>0.002401</td>\n",
       "      <td>54</td>\n",
       "      <td>0.024171</td>\n",
       "      <td>0.021770</td>\n",
       "    </tr>\n",
       "    <tr>\n",
       "      <th>6</th>\n",
       "      <td>DebtRatio</td>\n",
       "      <td>-0.001262</td>\n",
       "      <td>0.161512</td>\n",
       "      <td>0.022909</td>\n",
       "      <td>0.024171</td>\n",
       "    </tr>\n",
       "    <tr>\n",
       "      <th>7</th>\n",
       "      <td>NumberOfDependents</td>\n",
       "      <td>-0.001004</td>\n",
       "      <td>0</td>\n",
       "      <td>0.021904</td>\n",
       "      <td>0.022909</td>\n",
       "    </tr>\n",
       "    <tr>\n",
       "      <th>8</th>\n",
       "      <td>NumberOfOpenCreditLinesAndLoans</td>\n",
       "      <td>-0.000564</td>\n",
       "      <td>8</td>\n",
       "      <td>0.021340</td>\n",
       "      <td>0.021904</td>\n",
       "    </tr>\n",
       "    <tr>\n",
       "      <th>9</th>\n",
       "      <td>MonthlyIncome</td>\n",
       "      <td>0.000480</td>\n",
       "      <td>2036</td>\n",
       "      <td>0.021820</td>\n",
       "      <td>0.021340</td>\n",
       "    </tr>\n",
       "    <tr>\n",
       "      <th>10</th>\n",
       "      <td>NumberRealEstateLoansOrLines</td>\n",
       "      <td>-0.000125</td>\n",
       "      <td>0</td>\n",
       "      <td>0.021695</td>\n",
       "      <td>0.021820</td>\n",
       "    </tr>\n",
       "    <tr>\n",
       "      <th>11</th>\n",
       "      <td>_REST</td>\n",
       "      <td>0.000000</td>\n",
       "      <td></td>\n",
       "      <td>0.021695</td>\n",
       "      <td>0.021695</td>\n",
       "    </tr>\n",
       "    <tr>\n",
       "      <th>12</th>\n",
       "      <td>_PREDICTION</td>\n",
       "      <td>0.021695</td>\n",
       "      <td></td>\n",
       "      <td>0.021695</td>\n",
       "      <td>0.000000</td>\n",
       "    </tr>\n",
       "  </tbody>\n",
       "</table>\n",
       "</div>"
      ],
      "text/plain": [
       "                                     col  contribution     value  cumulative  \\\n",
       "0                                  _BASE      0.060136              0.060136   \n",
       "1   RevolvingUtilizationOfUnsecuredLines     -0.017508         0    0.042627   \n",
       "2                NumberOfTimes90DaysLate     -0.009864         0    0.032763   \n",
       "3   NumberOfTime30-59DaysPastDueNotWorse     -0.006885         0    0.025878   \n",
       "4   NumberOfTime60-89DaysPastDueNotWorse     -0.004109         0    0.021770   \n",
       "5                                    age      0.002401        54    0.024171   \n",
       "6                              DebtRatio     -0.001262  0.161512    0.022909   \n",
       "7                     NumberOfDependents     -0.001004         0    0.021904   \n",
       "8        NumberOfOpenCreditLinesAndLoans     -0.000564         8    0.021340   \n",
       "9                          MonthlyIncome      0.000480      2036    0.021820   \n",
       "10          NumberRealEstateLoansOrLines     -0.000125         0    0.021695   \n",
       "11                                 _REST      0.000000              0.021695   \n",
       "12                           _PREDICTION      0.021695              0.021695   \n",
       "\n",
       "        base  \n",
       "0   0.000000  \n",
       "1   0.060136  \n",
       "2   0.042627  \n",
       "3   0.032763  \n",
       "4   0.025878  \n",
       "5   0.021770  \n",
       "6   0.024171  \n",
       "7   0.022909  \n",
       "8   0.021904  \n",
       "9   0.021340  \n",
       "10  0.021820  \n",
       "11  0.021695  \n",
       "12  0.000000  "
      ]
     },
     "execution_count": 154,
     "metadata": {},
     "output_type": "execute_result"
    }
   ],
   "source": [
    "contrib_df = get_contrib_df(shap_base, shap_values, sample_df.iloc[[0]])\n",
    "contrib_df"
   ]
  },
  {
   "cell_type": "code",
   "execution_count": null,
   "metadata": {},
   "outputs": [],
   "source": []
  }
 ],
 "metadata": {
  "kernelspec": {
   "display_name": "Python 3.7.7 64-bit ('venv': venv)",
   "language": "python",
   "name": "python37764bitvenvvenv081c98e452e74ebf9017b51b5bf1890c"
  },
  "language_info": {
   "codemirror_mode": {
    "name": "ipython",
    "version": 3
   },
   "file_extension": ".py",
   "mimetype": "text/x-python",
   "name": "python",
   "nbconvert_exporter": "python",
   "pygments_lexer": "ipython3",
   "version": "3.7.7"
  },
  "toc": {
   "base_numbering": 1,
   "nav_menu": {},
   "number_sections": true,
   "sideBar": true,
   "skip_h1_title": false,
   "title_cell": "Table of Contents",
   "title_sidebar": "Contents",
   "toc_cell": false,
   "toc_position": {},
   "toc_section_display": true,
   "toc_window_display": true
  }
 },
 "nbformat": 4,
 "nbformat_minor": 4
}
